{
 "cells": [
  {
   "cell_type": "code",
   "execution_count": 1,
   "metadata": {},
   "outputs": [],
   "source": [
    "import os\n",
    "import time\n",
    "import whitebox\n",
    "import rasterio\n",
    "from rasterio.crs import CRS"
   ]
  },
  {
   "cell_type": "code",
   "execution_count": 2,
   "metadata": {},
   "outputs": [],
   "source": [
    "start = time.perf_counter()"
   ]
  },
  {
   "cell_type": "code",
   "execution_count": 3,
   "metadata": {},
   "outputs": [],
   "source": [
    "wbt = whitebox.WhiteboxTools()"
   ]
  },
  {
   "cell_type": "code",
   "execution_count": 4,
   "metadata": {},
   "outputs": [
    {
     "data": {
      "text/plain": [
       "0"
      ]
     },
     "execution_count": 4,
     "metadata": {},
     "output_type": "execute_result"
    }
   ],
   "source": [
    "wbt.set_verbose_mode(False)"
   ]
  },
  {
   "cell_type": "code",
   "execution_count": 5,
   "metadata": {},
   "outputs": [],
   "source": [
    "data_dir_rel= '../data/'\n",
    "data_dir_abs = os.path.abspath(data_dir_rel)\n",
    "wbt.set_working_dir(data_dir_abs)\n"
   ]
  },
  {
   "cell_type": "code",
   "execution_count": 6,
   "metadata": {},
   "outputs": [],
   "source": [
    "laz_file = 'USGS_LPC_WY_SouthCentral_2020_D20_13TDF670640.laz'"
   ]
  },
  {
   "cell_type": "code",
   "execution_count": 7,
   "metadata": {},
   "outputs": [
    {
     "data": {
      "text/plain": [
       "0"
      ]
     },
     "execution_count": 7,
     "metadata": {},
     "output_type": "execute_result"
    }
   ],
   "source": [
    "raw_dem = os.path.splitext(laz_file)[0] + '_RawDEM.tif'\n",
    "\n",
    "# Only include LAST returns, class 2 points (ground)\n",
    "# 1 meter resolution\n",
    "wbt.lidar_idw_interpolation(\n",
    "    i=laz_file,\n",
    "    output=raw_dem,\n",
    "    parameter=\"elevation\",\n",
    "    returns=\"last\",\n",
    "    exclude_cls='0,1,3-18',\n",
    "    resolution=1.0,\n",
    "    weight=1.0,\n",
    "    radius=2.5\n",
    ")"
   ]
  },
  {
   "cell_type": "code",
   "execution_count": 8,
   "metadata": {},
   "outputs": [],
   "source": [
    "# EPSG:6342 (NAD83(2011) / UTM zone 13N)\n",
    "crs = CRS.from_epsg(6342)\n",
    "\n",
    "with rasterio.open(os.path.join(data_dir_rel, raw_dem), 'r+') as dem:\n",
    "    dem.crs = crs"
   ]
  },
  {
   "cell_type": "code",
   "execution_count": 9,
   "metadata": {},
   "outputs": [
    {
     "data": {
      "text/plain": [
       "0"
      ]
     },
     "execution_count": 9,
     "metadata": {},
     "output_type": "execute_result"
    }
   ],
   "source": [
    "filled_dem = os.path.splitext(laz_file)[0] + '_FilledDEM.tif'\n",
    "\n",
    "# Fill NoData holes in the DEM \n",
    "wbt.fill_missing_data(\n",
    "    i=raw_dem,\n",
    "    output=filled_dem,\n",
    "    filter=20\n",
    ")"
   ]
  },
  {
   "cell_type": "code",
   "execution_count": 10,
   "metadata": {},
   "outputs": [
    {
     "data": {
      "text/plain": [
       "0"
      ]
     },
     "execution_count": 10,
     "metadata": {},
     "output_type": "execute_result"
    }
   ],
   "source": [
    "slope_rast = os.path.splitext(laz_file)[0] + '_Slope.tif'\n",
    "\n",
    "# Calculate Slope using filled DEM\n",
    "wbt.slope(\n",
    "    dem=filled_dem,\n",
    "    output=slope_rast,\n",
    "    units='degrees'\n",
    ")"
   ]
  },
  {
   "cell_type": "code",
   "execution_count": 11,
   "metadata": {},
   "outputs": [
    {
     "data": {
      "text/plain": [
       "0"
      ]
     },
     "execution_count": 11,
     "metadata": {},
     "output_type": "execute_result"
    }
   ],
   "source": [
    "aspect_rast = os.path.splitext(laz_file)[0] + '_Aspect.tif'\n",
    "\n",
    "# Calculate Aspect using filled DEM\n",
    "wbt.aspect(\n",
    "    dem=filled_dem,\n",
    "    output=aspect_rast\n",
    ")"
   ]
  },
  {
   "cell_type": "code",
   "execution_count": 12,
   "metadata": {},
   "outputs": [
    {
     "name": "stdout",
     "output_type": "stream",
     "text": [
      "RUN TIME: 14 seconds\n"
     ]
    }
   ],
   "source": [
    "print(f'RUN TIME: {round(time.perf_counter() - start)} seconds')"
   ]
  },
  {
   "cell_type": "code",
   "execution_count": null,
   "metadata": {},
   "outputs": [],
   "source": []
  }
 ],
 "metadata": {
  "kernelspec": {
   "display_name": "venv_terrain",
   "language": "python",
   "name": "python3"
  },
  "language_info": {
   "codemirror_mode": {
    "name": "ipython",
    "version": 3
   },
   "file_extension": ".py",
   "mimetype": "text/x-python",
   "name": "python",
   "nbconvert_exporter": "python",
   "pygments_lexer": "ipython3",
   "version": "3.10.12"
  }
 },
 "nbformat": 4,
 "nbformat_minor": 2
}
